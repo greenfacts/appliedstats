{
  "nbformat": 4,
  "nbformat_minor": 0,
  "metadata": {
    "kernelspec": {
      "display_name": "R",
      "language": "R",
      "name": "ir"
    },
    "language_info": {
      "codemirror_mode": "r",
      "file_extension": ".r",
      "mimetype": "text/x-r-source",
      "name": "R",
      "pygments_lexer": "r",
      "version": "3.6.1"
    },
    "colab": {
      "name": "keras-play.ipynb",
      "provenance": [],
      "include_colab_link": true
    }
  },
  "cells": [
    {
      "cell_type": "markdown",
      "metadata": {
        "id": "view-in-github",
        "colab_type": "text"
      },
      "source": [
        "<a href=\"https://colab.research.google.com/github/greenfacts/appliedstats/blob/master/keras_play.ipynb\" target=\"_parent\"><img src=\"https://colab.research.google.com/assets/colab-badge.svg\" alt=\"Open In Colab\"/></a>"
      ]
    },
    {
      "cell_type": "code",
      "metadata": {
        "id": "_3_spP0kaI9x",
        "colab": {
          "base_uri": "https://localhost:8080/"
        },
        "outputId": "b6ec1869-237a-4d8b-b52a-5c022dcdc63b"
      },
      "source": [
        "install.packages(\"keras\")"
      ],
      "execution_count": 1,
      "outputs": [
        {
          "output_type": "stream",
          "text": [
            "Installing package into ‘/usr/local/lib/R/site-library’\n",
            "(as ‘lib’ is unspecified)\n",
            "\n",
            "also installing the dependencies ‘config’, ‘reticulate’, ‘tensorflow’, ‘tfruns’, ‘zeallot’\n",
            "\n",
            "\n"
          ],
          "name": "stderr"
        }
      ]
    },
    {
      "cell_type": "code",
      "metadata": {
        "id": "ZkqwTYW8aI94",
        "colab": {
          "base_uri": "https://localhost:8080/",
          "height": 301
        },
        "outputId": "c0299f8c-52f0-4a28-a9f4-cdd65110257c"
      },
      "source": [
        "library(keras)\r\n",
        "install_keras()"
      ],
      "execution_count": 2,
      "outputs": [
        {
          "output_type": "error",
          "ename": "ERROR",
          "evalue": "ignored",
          "traceback": [
            "Error: could not find a Python environment for /usr/bin/python3\nTraceback:\n",
            "1. install_keras()",
            "2. install_tensorflow(method = method, conda = conda, version = tensorflow, \n .     extra_packages = extra_packages, pip_ignore_installed = FALSE, \n .     ...)",
            "3. reticulate::py_install(packages = c(package, extra_packages), \n .     envname = envname, method = method, conda = conda, python_version = conda_python_version, \n .     pip = TRUE, ...)",
            "4. python_info(python)",
            "5. stopf(\"could not find a Python environment for %s\", python)",
            "6. stop(sprintf(fmt, ...), call. = call.)"
          ]
        }
      ]
    },
    {
      "cell_type": "code",
      "metadata": {
        "id": "ApamN3XwaI-F"
      },
      "source": [
        "mnist <- dataset_mnist()\n",
        "x_train <- mnist$train$x\n",
        "y_train <- mnist$train$y\n",
        "x_test <- mnist$test$x\n",
        "y_test <- mnist$test$y"
      ],
      "execution_count": null,
      "outputs": []
    },
    {
      "cell_type": "code",
      "metadata": {
        "id": "UgZRBFuqaI-I"
      },
      "source": [
        "# reshape\n",
        "x_train <- array_reshape(x_train, c(nrow(x_train), 784))\n",
        "x_test <- array_reshape(x_test, c(nrow(x_test), 784))\n",
        "# rescale\n",
        "x_train <- x_train / 255\n",
        "x_test <- x_test / 255"
      ],
      "execution_count": null,
      "outputs": []
    },
    {
      "cell_type": "code",
      "metadata": {
        "id": "0FGHEU7iaI-I"
      },
      "source": [
        "y_train <- to_categorical(y_train, 10)\n",
        "y_test <- to_categorical(y_test, 10)"
      ],
      "execution_count": null,
      "outputs": []
    },
    {
      "cell_type": "code",
      "metadata": {
        "id": "a_1qVXy2aI-J"
      },
      "source": [
        "model <- keras_model_sequential() \n",
        "model %>% \n",
        "  layer_dense(units = 256, activation = 'relu', input_shape = c(784)) %>% \n",
        "  layer_dropout(rate = 0.4) %>% \n",
        "  layer_dense(units = 128, activation = 'relu') %>%\n",
        "  layer_dropout(rate = 0.3) %>%\n",
        "  layer_dense(units = 10, activation = 'softmax')"
      ],
      "execution_count": null,
      "outputs": []
    },
    {
      "cell_type": "code",
      "metadata": {
        "id": "e9xMUhIJaI-K"
      },
      "source": [
        "summary(model)"
      ],
      "execution_count": null,
      "outputs": []
    },
    {
      "cell_type": "code",
      "metadata": {
        "id": "ibbbEP7uaI-L"
      },
      "source": [
        "model %>% compile(\n",
        "  loss = 'categorical_crossentropy',\n",
        "  optimizer = optimizer_rmsprop(),\n",
        "  metrics = c('accuracy')\n",
        ")"
      ],
      "execution_count": null,
      "outputs": []
    },
    {
      "cell_type": "code",
      "metadata": {
        "id": "MKK4gaE2aI-N"
      },
      "source": [
        "history <- model %>% fit(\n",
        "  x_train, y_train, \n",
        "  epochs = 30, batch_size = 128, \n",
        "  validation_split = 0.2\n",
        ")"
      ],
      "execution_count": null,
      "outputs": []
    },
    {
      "cell_type": "code",
      "metadata": {
        "id": "GPzs-n9waI-N"
      },
      "source": [
        "plot(history)"
      ],
      "execution_count": null,
      "outputs": []
    },
    {
      "cell_type": "code",
      "metadata": {
        "id": "KGW0iQjraI-Q"
      },
      "source": [
        ""
      ],
      "execution_count": null,
      "outputs": []
    }
  ]
}